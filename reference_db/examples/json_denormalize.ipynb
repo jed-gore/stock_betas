{
 "cells": [
  {
   "cell_type": "code",
   "execution_count": 1,
   "id": "8c18d3c7",
   "metadata": {},
   "outputs": [],
   "source": [
    "# class JSONTable:\n",
    "#     # creates a class with variables dynamically defined by the json input\n",
    "#     def __init__(self, schema):\n",
    "#         self.schema = schema\n",
    "#         self.key_name = schema.keys[0]\n",
    "#         # while next level is a list\n",
    "#         # generate new multi levelcolumn name\n",
    "#         # else append to last column\n",
    "#         self.colnames = \"\"\n",
    "\n",
    "\n",
    "# schema = {\"company\": [{\"kpi_name\": [\"period_name\", \"value\"]}]}\n",
    "\n",
    "# data_class = JSONTable(schema)\n",
    "\n",
    "# data = {\"tgt\": [{\"net_revenue\": [\"Q1_2020\", \"4500\"]}]}\n",
    "\n",
    "# data_class.add_record(data)\n",
    "# data_class.add_records([data, data])\n",
    "\n",
    "# data_class.return_panel_data()  # this returns a dataframe for saving in sql / csv\n",
    "# data_class.json_dump(\n",
    "#     show_schema=True\n",
    "# )  # this dumps the json show schema has schema as first record\n"
   ]
  },
  {
   "cell_type": "code",
   "execution_count": 107,
   "id": "57ac4e7e",
   "metadata": {},
   "outputs": [],
   "source": [
    "import pandas as pd\n",
    "\n",
    "# d = {'key': ['foo', 'foo', 'foo', 'foo', 'bar', 'bar', 'bar', 'bar', 'crow', 'crow', 'crow', 'crow'], \n",
    "#      'date': ['2021-01-01', '2021-01-01', '2021-01-02', '2021-01-02', '2021-01-01', '2021-01-01','2021-01-02', '2021-01-02', '2021-01-01', '2021-01-01', '2021-01-02', '2021-01-02'], \n",
    "#      'class': [1, 2, 1, 2, 1, 2, 1, 2, 1, 2, 1, 2],\n",
    "#      'count': [12, 3, 5, 5, 3, 1, 4, 1, 7, 3, 8, 2],\n",
    "#      'percent': [.8, .2, .5, .5, .75, .25, .8, .2, .7, .3, .8, .2]\n",
    "# }\n",
    "# df = pd.DataFrame(data=d)\n",
    "# df.to_csv(\"data.csv\",index = False)\n",
    "df = pd.read_csv('data.csv')\n",
    "# d   = {'count': ('count', 'sum'), 'predictions': ('percent', list)}\n",
    "# g   = df.groupby(['key', 'date']).agg(**d).groupby(level=0).agg(list)\n",
    "# dct = [{'key': k, **v} for k, v in g.to_dict(orient='index').items()]"
   ]
  },
  {
   "cell_type": "code",
   "execution_count": 108,
   "id": "fe2e2676",
   "metadata": {},
   "outputs": [
    {
     "data": {
      "text/html": [
       "<div>\n",
       "<style scoped>\n",
       "    .dataframe tbody tr th:only-of-type {\n",
       "        vertical-align: middle;\n",
       "    }\n",
       "\n",
       "    .dataframe tbody tr th {\n",
       "        vertical-align: top;\n",
       "    }\n",
       "\n",
       "    .dataframe thead th {\n",
       "        text-align: right;\n",
       "    }\n",
       "</style>\n",
       "<table border=\"1\" class=\"dataframe\">\n",
       "  <thead>\n",
       "    <tr style=\"text-align: right;\">\n",
       "      <th></th>\n",
       "      <th>ticker</th>\n",
       "      <th>sector</th>\n",
       "      <th>kpi_name</th>\n",
       "      <th>kpi_meta_mapping</th>\n",
       "    </tr>\n",
       "  </thead>\n",
       "  <tbody>\n",
       "    <tr>\n",
       "      <th>0</th>\n",
       "      <td>TGT</td>\n",
       "      <td>consumer</td>\n",
       "      <td>net_revenue</td>\n",
       "      <td>revenue_dashboard</td>\n",
       "    </tr>\n",
       "    <tr>\n",
       "      <th>1</th>\n",
       "      <td>TGT</td>\n",
       "      <td>consumer</td>\n",
       "      <td>internet_sales</td>\n",
       "      <td>internet_dashboard</td>\n",
       "    </tr>\n",
       "    <tr>\n",
       "      <th>2</th>\n",
       "      <td>TGT</td>\n",
       "      <td>consumer</td>\n",
       "      <td>DSO</td>\n",
       "      <td>dso_dashboard</td>\n",
       "    </tr>\n",
       "    <tr>\n",
       "      <th>3</th>\n",
       "      <td>WMT</td>\n",
       "      <td>consumer</td>\n",
       "      <td>net_revenue</td>\n",
       "      <td>revenue_dashboard</td>\n",
       "    </tr>\n",
       "    <tr>\n",
       "      <th>4</th>\n",
       "      <td>WMT</td>\n",
       "      <td>consumer</td>\n",
       "      <td>DSO</td>\n",
       "      <td>dso_dashboard</td>\n",
       "    </tr>\n",
       "    <tr>\n",
       "      <th>5</th>\n",
       "      <td>AMZN</td>\n",
       "      <td>consumer</td>\n",
       "      <td>net_revenue</td>\n",
       "      <td>revenue_dashboard</td>\n",
       "    </tr>\n",
       "    <tr>\n",
       "      <th>6</th>\n",
       "      <td>AMZN</td>\n",
       "      <td>consumer</td>\n",
       "      <td>DSO</td>\n",
       "      <td>dso_dashboard</td>\n",
       "    </tr>\n",
       "    <tr>\n",
       "      <th>7</th>\n",
       "      <td>AMZN</td>\n",
       "      <td>consumer</td>\n",
       "      <td>internet_sales</td>\n",
       "      <td>internet_dashboard</td>\n",
       "    </tr>\n",
       "    <tr>\n",
       "      <th>8</th>\n",
       "      <td>AMZN</td>\n",
       "      <td>Internet_retail</td>\n",
       "      <td>net_revenue</td>\n",
       "      <td>revenue_dashboard</td>\n",
       "    </tr>\n",
       "    <tr>\n",
       "      <th>9</th>\n",
       "      <td>AMZN</td>\n",
       "      <td>Internet_retail</td>\n",
       "      <td>DSO</td>\n",
       "      <td>dso_dashboard</td>\n",
       "    </tr>\n",
       "    <tr>\n",
       "      <th>10</th>\n",
       "      <td>AMZN</td>\n",
       "      <td>Internet_retail</td>\n",
       "      <td>internet_sales</td>\n",
       "      <td>internet_dashboard</td>\n",
       "    </tr>\n",
       "  </tbody>\n",
       "</table>\n",
       "</div>"
      ],
      "text/plain": [
       "   ticker           sector        kpi_name    kpi_meta_mapping\n",
       "0     TGT         consumer     net_revenue   revenue_dashboard\n",
       "1     TGT         consumer  internet_sales  internet_dashboard\n",
       "2     TGT         consumer             DSO       dso_dashboard\n",
       "3     WMT         consumer     net_revenue   revenue_dashboard\n",
       "4     WMT         consumer             DSO       dso_dashboard\n",
       "5    AMZN         consumer     net_revenue   revenue_dashboard\n",
       "6    AMZN         consumer             DSO       dso_dashboard\n",
       "7    AMZN         consumer  internet_sales  internet_dashboard\n",
       "8    AMZN  Internet_retail     net_revenue   revenue_dashboard\n",
       "9    AMZN  Internet_retail             DSO       dso_dashboard\n",
       "10   AMZN  Internet_retail  internet_sales  internet_dashboard"
      ]
     },
     "execution_count": 108,
     "metadata": {},
     "output_type": "execute_result"
    }
   ],
   "source": [
    "df"
   ]
  },
  {
   "cell_type": "code",
   "execution_count": 10,
   "id": "7bd3038d",
   "metadata": {},
   "outputs": [
    {
     "data": {
      "text/plain": [
       "[{'key': 'bar', 'count': [4, 5], 'predictions': [[0.75, 0.25], [0.8, 0.2]]},\n",
       " {'key': 'crow', 'count': [10, 10], 'predictions': [[0.7, 0.3], [0.8, 0.2]]},\n",
       " {'key': 'foo', 'count': [15, 10], 'predictions': [[0.8, 0.2], [0.5, 0.5]]}]"
      ]
     },
     "execution_count": 10,
     "metadata": {},
     "output_type": "execute_result"
    }
   ],
   "source": [
    "dctt6"
   ]
  },
  {
   "cell_type": "code",
   "execution_count": 98,
   "id": "b8b664a3",
   "metadata": {},
   "outputs": [],
   "source": [
    "d = {'ticker': ['tgt', 'tgt', 'wmt', 'wmt', 'amzn', 'amzn'], \n",
    "     'sector': ['consumer', 'consumer', 'consumer', 'consumer', 'consumer', 'custom_3'], \n",
    "     'kpi': ['net_revenue', 'other', 'net_revenue', 'other', 'net_revenue', 'other'],\n",
    "     'kpi_dashboard': ['revenue_dashboard', 'custom_dashboard', 'revenue_dashboard', 'other', 'revenue_dashboard', 'other']\n",
    "}\n",
    "df = pd.DataFrame(data=d)\n",
    "df.set_index(['ticker','sector'],inplace=True)"
   ]
  },
  {
   "cell_type": "code",
   "execution_count": 99,
   "id": "0383087c",
   "metadata": {},
   "outputs": [
    {
     "data": {
      "text/html": [
       "<div>\n",
       "<style scoped>\n",
       "    .dataframe tbody tr th:only-of-type {\n",
       "        vertical-align: middle;\n",
       "    }\n",
       "\n",
       "    .dataframe tbody tr th {\n",
       "        vertical-align: top;\n",
       "    }\n",
       "\n",
       "    .dataframe thead th {\n",
       "        text-align: right;\n",
       "    }\n",
       "</style>\n",
       "<table border=\"1\" class=\"dataframe\">\n",
       "  <thead>\n",
       "    <tr style=\"text-align: right;\">\n",
       "      <th></th>\n",
       "      <th></th>\n",
       "      <th>kpi</th>\n",
       "      <th>kpi_dashboard</th>\n",
       "    </tr>\n",
       "    <tr>\n",
       "      <th>ticker</th>\n",
       "      <th>sector</th>\n",
       "      <th></th>\n",
       "      <th></th>\n",
       "    </tr>\n",
       "  </thead>\n",
       "  <tbody>\n",
       "    <tr>\n",
       "      <th rowspan=\"2\" valign=\"top\">tgt</th>\n",
       "      <th>consumer</th>\n",
       "      <td>net_revenue</td>\n",
       "      <td>revenue_dashboard</td>\n",
       "    </tr>\n",
       "    <tr>\n",
       "      <th>consumer</th>\n",
       "      <td>other</td>\n",
       "      <td>custom_dashboard</td>\n",
       "    </tr>\n",
       "    <tr>\n",
       "      <th rowspan=\"2\" valign=\"top\">wmt</th>\n",
       "      <th>consumer</th>\n",
       "      <td>net_revenue</td>\n",
       "      <td>revenue_dashboard</td>\n",
       "    </tr>\n",
       "    <tr>\n",
       "      <th>consumer</th>\n",
       "      <td>other</td>\n",
       "      <td>other</td>\n",
       "    </tr>\n",
       "    <tr>\n",
       "      <th rowspan=\"2\" valign=\"top\">amzn</th>\n",
       "      <th>consumer</th>\n",
       "      <td>net_revenue</td>\n",
       "      <td>revenue_dashboard</td>\n",
       "    </tr>\n",
       "    <tr>\n",
       "      <th>custom_3</th>\n",
       "      <td>other</td>\n",
       "      <td>other</td>\n",
       "    </tr>\n",
       "  </tbody>\n",
       "</table>\n",
       "</div>"
      ],
      "text/plain": [
       "                         kpi      kpi_dashboard\n",
       "ticker sector                                  \n",
       "tgt    consumer  net_revenue  revenue_dashboard\n",
       "       consumer        other   custom_dashboard\n",
       "wmt    consumer  net_revenue  revenue_dashboard\n",
       "       consumer        other              other\n",
       "amzn   consumer  net_revenue  revenue_dashboard\n",
       "       custom_3        other              other"
      ]
     },
     "execution_count": 99,
     "metadata": {},
     "output_type": "execute_result"
    }
   ],
   "source": [
    "df"
   ]
  },
  {
   "cell_type": "code",
   "execution_count": 104,
   "id": "312d5a17",
   "metadata": {},
   "outputs": [
    {
     "name": "stdout",
     "output_type": "stream",
     "text": [
      "[\n",
      "  {\n",
      "    \"ticker\": \"amzn\",\n",
      "    \"sector\": [\n",
      "      {\n",
      "        \"sector\": \"consumer\",\n",
      "        \"kpis\": [\n",
      "          {\n",
      "            \"kpi\": \"net_revenue\",\n",
      "            \"kpi_dashboard\": \"revenue_dashboard\"\n",
      "          }\n",
      "        ]\n",
      "      },\n",
      "      {\n",
      "        \"sector\": \"custom_3\",\n",
      "        \"kpis\": [\n",
      "          {\n",
      "            \"kpi\": \"other\",\n",
      "            \"kpi_dashboard\": \"other\"\n",
      "          }\n",
      "        ]\n",
      "      }\n",
      "    ]\n",
      "  },\n",
      "  {\n",
      "    \"ticker\": \"tgt\",\n",
      "    \"sector\": [\n",
      "      {\n",
      "        \"sector\": \"consumer\",\n",
      "        \"kpis\": [\n",
      "          {\n",
      "            \"kpi\": \"net_revenue\",\n",
      "            \"kpi_dashboard\": \"revenue_dashboard\"\n",
      "          },\n",
      "          {\n",
      "            \"kpi\": \"other\",\n",
      "            \"kpi_dashboard\": \"custom_dashboard\"\n",
      "          }\n",
      "        ]\n",
      "      }\n",
      "    ]\n",
      "  },\n",
      "  {\n",
      "    \"ticker\": \"wmt\",\n",
      "    \"sector\": [\n",
      "      {\n",
      "        \"sector\": \"consumer\",\n",
      "        \"kpis\": [\n",
      "          {\n",
      "            \"kpi\": \"net_revenue\",\n",
      "            \"kpi_dashboard\": \"revenue_dashboard\"\n",
      "          },\n",
      "          {\n",
      "            \"kpi\": \"other\",\n",
      "            \"kpi_dashboard\": \"other\"\n",
      "          }\n",
      "        ]\n",
      "      }\n",
      "    ]\n",
      "  }\n",
      "]\n"
     ]
    }
   ],
   "source": [
    "data = []\n",
    "for ticker, df1 in df.groupby(level=0):\n",
    "    data.append({'ticker': ticker, 'sector': []})\n",
    "    for sector, df2 in df1.groupby(level=1):\n",
    "        data[-1]['sector'].append({'sector': sector, 'kpis': df2.to_dict('records')})\n",
    "import json\n",
    "print(json.dumps(data, indent=2))"
   ]
  },
  {
   "cell_type": "code",
   "execution_count": 69,
   "id": "79a1f605",
   "metadata": {},
   "outputs": [
    {
     "name": "stdout",
     "output_type": "stream",
     "text": [
      "[{\"total_count\": 130, \"geo\": \"AMR\", \"drill_through\": [{\"total_count\": 110, \"geo\": \"California\"}, {\"total_count\": 20, \"geo\": \"Mexico\"}]}, {\"total_count\": 90, \"geo\": \"APAC\", \"drill_through\": [{\"total_count\": 90, \"geo\": \"Japan\"}]}, {\"total_count\": 180, \"geo\": \"EURO\", \"drill_through\": [{\"total_count\": 80, \"geo\": \"Ireland\"}, {\"total_count\": 100, \"geo\": \"UK\"}]}]\n"
     ]
    }
   ],
   "source": [
    "import pandas as pd\n",
    "import json\n",
    "\n",
    "df = pd.DataFrame(\n",
    "    data=[\n",
    "        (\"EURO\",\"UK\",100),\n",
    "        (\"EURO\",\"Ireland\",80),\n",
    "        (\"AMR\",\"Mexico\",20),\n",
    "        (\"AMR\",\"California\",110),\n",
    "        (\"APAC\",\"Japan\",90)\n",
    "    ], \n",
    "    columns=[\"region\",\"country\",\"total_count\"]\n",
    ")\n",
    "\n",
    "#First get the regions into a list of dictionary objects\n",
    "regions = df[[\"region\", \"total_count\"]].groupby(\"region\").sum()\n",
    "regions[\"geo\"] = regions.index.values\n",
    "regions = regions.to_dict(orient=\"records\") \n",
    "\n",
    "#now add the countries to each region dictionary\n",
    "for region in regions:\n",
    "    countries = df[df[\"region\"] == region[\"geo\"]].drop(\"region\", axis=1).groupby(\"country\").sum()\n",
    "    countries[\"geo\"] = countries.index.values\n",
    "    region[\"drill_through\"] = countries.to_dict(orient=\"records\")\n",
    "    \n",
    "#Serialize the list of regions as JSON\n",
    "json_str = json.dumps(regions)\n",
    "\n",
    "print(json_str)"
   ]
  },
  {
   "cell_type": "code",
   "execution_count": 73,
   "id": "d8697dce",
   "metadata": {},
   "outputs": [
    {
     "data": {
      "text/plain": [
       "region\n",
       "AMR     [{\"region\":\"AMR\",\"country\":\"Mexico\",\"total_cou...\n",
       "APAC    [{\"region\":\"APAC\",\"country\":\"Japan\",\"total_cou...\n",
       "EURO    [{\"region\":\"EURO\",\"country\":\"UK\",\"total_count\"...\n",
       "dtype: object"
      ]
     },
     "execution_count": 73,
     "metadata": {},
     "output_type": "execute_result"
    }
   ],
   "source": [
    "df.groupby('region').apply(lambda x: x.to_json(orient='records'))"
   ]
  },
  {
   "cell_type": "code",
   "execution_count": 38,
   "id": "4756c18e",
   "metadata": {},
   "outputs": [],
   "source": [
    "import uuid\n",
    "from IPython.display import display_javascript, display_html, display\n",
    "import json\n",
    "\n",
    "class RenderJSON(object):\n",
    "    def __init__(self, json_data):\n",
    "        if isinstance(json_data, dict):\n",
    "            self.json_str = json.dumps(json_data)\n",
    "        else:\n",
    "            self.json_str = json_data\n",
    "        self.uuid = str(uuid.uuid4())\n",
    "\n",
    "    def _ipython_display_(self):\n",
    "        display_html('<div id=\"{}\" style=\"height: 600px; width:100%;\"></div>'.format(self.uuid), raw=True)\n",
    "        display_javascript(\"\"\"\n",
    "        require([\"https://rawgit.com/caldwell/renderjson/master/renderjson.js\"], function() {\n",
    "        document.getElementById('%s').appendChild(renderjson(%s))\n",
    "        });\n",
    "        \"\"\" % (self.uuid, self.json_str), raw=True)"
   ]
  },
  {
   "cell_type": "code",
   "execution_count": 80,
   "id": "bffb5d0b",
   "metadata": {},
   "outputs": [
    {
     "data": {
      "text/html": [
       "<div id=\"4678a055-3497-4e79-b6a1-bfe33e66da8c\" style=\"height: 600px; width:100%;\"></div>"
      ]
     },
     "metadata": {},
     "output_type": "display_data"
    },
    {
     "data": {
      "application/javascript": [
       "\n",
       "        require([\"https://rawgit.com/caldwell/renderjson/master/renderjson.js\"], function() {\n",
       "        document.getElementById('4678a055-3497-4e79-b6a1-bfe33e66da8c').appendChild(renderjson(<class 'str'>))\n",
       "        });\n",
       "        "
      ]
     },
     "metadata": {},
     "output_type": "display_data"
    }
   ],
   "source": [
    "\n",
    "RenderJSON(str)"
   ]
  },
  {
   "cell_type": "code",
   "execution_count": null,
   "id": "e2c6d2f8",
   "metadata": {},
   "outputs": [],
   "source": []
  }
 ],
 "metadata": {
  "kernelspec": {
   "display_name": "Python 3 (ipykernel)",
   "language": "python",
   "name": "python3"
  },
  "language_info": {
   "codemirror_mode": {
    "name": "ipython",
    "version": 3
   },
   "file_extension": ".py",
   "mimetype": "text/x-python",
   "name": "python",
   "nbconvert_exporter": "python",
   "pygments_lexer": "ipython3",
   "version": "3.10.2"
  }
 },
 "nbformat": 4,
 "nbformat_minor": 5
}
