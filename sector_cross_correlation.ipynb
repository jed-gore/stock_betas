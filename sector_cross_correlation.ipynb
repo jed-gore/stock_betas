{
 "cells": [
  {
   "cell_type": "code",
   "execution_count": 1,
   "id": "b98854c3",
   "metadata": {},
   "outputs": [
    {
     "ename": "SyntaxError",
     "evalue": "invalid syntax. Perhaps you forgot a comma? (objects.py, line 59)",
     "output_type": "error",
     "traceback": [
      "Traceback \u001b[0;36m(most recent call last)\u001b[0m:\n",
      "  File \u001b[1;32m/Library/Frameworks/Python.framework/Versions/3.10/lib/python3.10/site-packages/IPython/core/interactiveshell.py:3251\u001b[0m in \u001b[1;35mrun_code\u001b[0m\n    exec(code_obj, self.user_global_ns, self.user_ns)\n",
      "\u001b[0;36m  Input \u001b[0;32mIn [1]\u001b[0;36m in \u001b[0;35m<module>\u001b[0;36m\u001b[0m\n\u001b[0;31m    from objects import *\u001b[0m\n",
      "\u001b[0;36m  File \u001b[0;32m~/git/stock_betas/objects.py:59\u001b[0;36m\u001b[0m\n\u001b[0;31m    title = f\"Cross Correlations for {self.stock_list}\"\u001b[0m\n\u001b[0m            ^\u001b[0m\n\u001b[0;31mSyntaxError\u001b[0m\u001b[0;31m:\u001b[0m invalid syntax. Perhaps you forgot a comma?\n"
     ]
    }
   ],
   "source": [
    "\n",
    "from objects import *\n",
    "import matplotlib.pylab as plt\n",
    "plt.rcParams['figure.dpi'] = 150\n"
   ]
  },
  {
   "cell_type": "code",
   "execution_count": null,
   "id": "5e7d8674",
   "metadata": {},
   "outputs": [],
   "source": [
    "sd = StockData()"
   ]
  },
  {
   "cell_type": "code",
   "execution_count": null,
   "id": "0dcef869",
   "metadata": {},
   "outputs": [],
   "source": [
    "stock_list = ['SQ','FIS','FISV','ADP','PAYX','GPN']  #list of peers"
   ]
  },
  {
   "cell_type": "code",
   "execution_count": null,
   "id": "8678e5b1",
   "metadata": {},
   "outputs": [],
   "source": [
    "sd.get_beta_data(stock_list)"
   ]
  },
  {
   "cell_type": "code",
   "execution_count": null,
   "id": "2e968d0f",
   "metadata": {},
   "outputs": [],
   "source": [
    "sd.dataset"
   ]
  },
  {
   "cell_type": "code",
   "execution_count": null,
   "id": "596cc4f3",
   "metadata": {},
   "outputs": [],
   "source": [
    "df_corr = sd.get_cross_correlations(stock_list)"
   ]
  },
  {
   "cell_type": "code",
   "execution_count": null,
   "id": "13297c20",
   "metadata": {},
   "outputs": [],
   "source": [
    "df_corr"
   ]
  },
  {
   "cell_type": "code",
   "execution_count": null,
   "id": "aa2d5ddc",
   "metadata": {},
   "outputs": [],
   "source": [
    "sd.plot_cross_correlations()"
   ]
  }
 ],
 "metadata": {
  "kernelspec": {
   "display_name": "Python 3 (ipykernel)",
   "language": "python",
   "name": "python3"
  },
  "language_info": {
   "codemirror_mode": {
    "name": "ipython",
    "version": 3
   },
   "file_extension": ".py",
   "mimetype": "text/x-python",
   "name": "python",
   "nbconvert_exporter": "python",
   "pygments_lexer": "ipython3",
   "version": "3.10.2"
  }
 },
 "nbformat": 4,
 "nbformat_minor": 5
}
