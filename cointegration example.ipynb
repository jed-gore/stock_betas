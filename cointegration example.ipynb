{
 "cells": [
  {
   "cell_type": "code",
   "execution_count": 1,
   "id": "217a1f45",
   "metadata": {},
   "outputs": [],
   "source": [
    "# import numpy as np\n",
    "# import pandas as pd\n",
    "# import statsmodels\n",
    "# from statsmodels.tsa.stattools import coint\n",
    "# from scipy import stats\n",
    "# import datetime\n",
    "# import matplotlib.pyplot as plt\n",
    "\n",
    "# long_idea=\"USB\"\n",
    "# short_idea=\"KEY\"\n",
    "\n",
    "# ymd='2016-11-25'\n",
    "\n",
    "# def zscore(series):\n",
    "#     return (series - series.mean()) / np.std(series)\n",
    "\n",
    "# symbol_list = [long_idea,short_idea]\n",
    "\n",
    "# securities_panel = get_pricing(symbol_list, fields=['price'], start_date='2015-01-01', end_date=ymd)\n",
    "# securities_panel.minor_axis = map(lambda x: x.symbol, securities_panel.minor_axis)\n",
    "\n",
    "# df_long_idea=securities_panel.loc['price'][long_idea]\n",
    "# df_short_idea=securities_panel.loc['price'][short_idea]\n",
    "\n",
    "# score, pvalue, _ = coint(df_long_idea, df_short_idea)\n",
    "\n",
    "# print(\"pvalue:\"+str(\"{0:.2f}%\".format(pvalue)))\n",
    "\n",
    "# if pvalue < .05:\n",
    "#     print(\"This p value is statistically significant with a 95% confidence interval.\")\n",
    "# else:\n",
    "#     print(\"This p value is not statistically significant with a 95% confidence interval.  Perhaps try another time period.\")\n",
    "\n",
    "# model = pd.ols(y=df_long_idea,x=df_short_idea)\n",
    "# df_hedge_ratio = model.beta['x']\n",
    "\n",
    "# df_hedge_ratio\n",
    "\n",
    "# diff_series = df_long_idea - df_short_idea*df_hedge_ratio\n",
    "\n",
    "# zscore(diff_series).plot()\n",
    "# plt.axhline(zscore(diff_series).mean(), color='black')\n",
    "# plt.axhline(1.0, color='red', linestyle='--')\n",
    "# plt.axhline(-1.0, color='green', linestyle='--')\n",
    "# dlen=len(diff_series)\n",
    "# a=zscore(diff_series)\n",
    "# x=a[dlen-1]\n",
    "\n",
    "# print(\"zscore:\"+str(\"{0:.2f}%\".format(x)))\n",
    "\n",
    "# if x > 1:\n",
    "#     print(\"Recommendation: invert this pair idea\")\n",
    "# elif x < -1: \n",
    "#     print(\"Recommendation: good pair idea\")\n"
   ]
  },
  {
   "cell_type": "code",
   "execution_count": 2,
   "id": "6a1d5729",
   "metadata": {},
   "outputs": [],
   "source": [
    "\n",
    "from objects import *\n",
    "import matplotlib.pylab as plt\n",
    "plt.rcParams['figure.dpi'] = 100"
   ]
  },
  {
   "cell_type": "code",
   "execution_count": 3,
   "id": "f76ad7f2",
   "metadata": {},
   "outputs": [],
   "source": [
    "pair_list = ['COF','DFS']"
   ]
  },
  {
   "cell_type": "code",
   "execution_count": 4,
   "id": "f396cf96",
   "metadata": {},
   "outputs": [],
   "source": [
    "from statsmodels.tsa.stattools import coint\n",
    "from scipy import stats"
   ]
  },
  {
   "cell_type": "code",
   "execution_count": 5,
   "id": "c1993ad3",
   "metadata": {},
   "outputs": [],
   "source": [
    "portfolio = Portfolio(pair_list,log=True)"
   ]
  },
  {
   "cell_type": "code",
   "execution_count": 6,
   "id": "0b9a086f",
   "metadata": {},
   "outputs": [
    {
     "data": {
      "text/html": [
       "<div>\n",
       "<style scoped>\n",
       "    .dataframe tbody tr th:only-of-type {\n",
       "        vertical-align: middle;\n",
       "    }\n",
       "\n",
       "    .dataframe tbody tr th {\n",
       "        vertical-align: top;\n",
       "    }\n",
       "\n",
       "    .dataframe thead th {\n",
       "        text-align: right;\n",
       "    }\n",
       "</style>\n",
       "<table border=\"1\" class=\"dataframe\">\n",
       "  <thead>\n",
       "    <tr style=\"text-align: right;\">\n",
       "      <th>ticker</th>\n",
       "      <th>index</th>\n",
       "      <th>SPY</th>\n",
       "    </tr>\n",
       "  </thead>\n",
       "  <tbody>\n",
       "    <tr>\n",
       "      <th>0</th>\n",
       "      <td>2012-01-03</td>\n",
       "      <td>103.596207</td>\n",
       "    </tr>\n",
       "    <tr>\n",
       "      <th>1</th>\n",
       "      <td>2012-01-04</td>\n",
       "      <td>103.758682</td>\n",
       "    </tr>\n",
       "    <tr>\n",
       "      <th>2</th>\n",
       "      <td>2012-01-05</td>\n",
       "      <td>104.034943</td>\n",
       "    </tr>\n",
       "    <tr>\n",
       "      <th>3</th>\n",
       "      <td>2012-01-06</td>\n",
       "      <td>103.766830</td>\n",
       "    </tr>\n",
       "    <tr>\n",
       "      <th>4</th>\n",
       "      <td>2012-01-09</td>\n",
       "      <td>104.018669</td>\n",
       "    </tr>\n",
       "    <tr>\n",
       "      <th>...</th>\n",
       "      <td>...</td>\n",
       "      <td>...</td>\n",
       "    </tr>\n",
       "    <tr>\n",
       "      <th>2797</th>\n",
       "      <td>2023-02-14</td>\n",
       "      <td>412.640015</td>\n",
       "    </tr>\n",
       "    <tr>\n",
       "      <th>2798</th>\n",
       "      <td>2023-02-15</td>\n",
       "      <td>413.980011</td>\n",
       "    </tr>\n",
       "    <tr>\n",
       "      <th>2799</th>\n",
       "      <td>2023-02-16</td>\n",
       "      <td>408.279999</td>\n",
       "    </tr>\n",
       "    <tr>\n",
       "      <th>2800</th>\n",
       "      <td>2023-02-17</td>\n",
       "      <td>407.260010</td>\n",
       "    </tr>\n",
       "    <tr>\n",
       "      <th>2801</th>\n",
       "      <td>2023-02-21</td>\n",
       "      <td>399.089996</td>\n",
       "    </tr>\n",
       "  </tbody>\n",
       "</table>\n",
       "<p>2802 rows × 2 columns</p>\n",
       "</div>"
      ],
      "text/plain": [
       "ticker      index         SPY\n",
       "0      2012-01-03  103.596207\n",
       "1      2012-01-04  103.758682\n",
       "2      2012-01-05  104.034943\n",
       "3      2012-01-06  103.766830\n",
       "4      2012-01-09  104.018669\n",
       "...           ...         ...\n",
       "2797   2023-02-14  412.640015\n",
       "2798   2023-02-15  413.980011\n",
       "2799   2023-02-16  408.279999\n",
       "2800   2023-02-17  407.260010\n",
       "2801   2023-02-21  399.089996\n",
       "\n",
       "[2802 rows x 2 columns]"
      ]
     },
     "execution_count": 6,
     "metadata": {},
     "output_type": "execute_result"
    }
   ],
   "source": [
    "portfolio.spy"
   ]
  },
  {
   "cell_type": "code",
   "execution_count": 7,
   "id": "05e8229a",
   "metadata": {},
   "outputs": [
    {
     "data": {
      "text/html": [
       "<div>\n",
       "<style scoped>\n",
       "    .dataframe tbody tr th:only-of-type {\n",
       "        vertical-align: middle;\n",
       "    }\n",
       "\n",
       "    .dataframe tbody tr th {\n",
       "        vertical-align: top;\n",
       "    }\n",
       "\n",
       "    .dataframe thead th {\n",
       "        text-align: right;\n",
       "    }\n",
       "</style>\n",
       "<table border=\"1\" class=\"dataframe\">\n",
       "  <thead>\n",
       "    <tr style=\"text-align: right;\">\n",
       "      <th>ticker</th>\n",
       "      <th>index</th>\n",
       "      <th>COF</th>\n",
       "      <th>DFS</th>\n",
       "    </tr>\n",
       "  </thead>\n",
       "  <tbody>\n",
       "    <tr>\n",
       "      <th>0</th>\n",
       "      <td>2012-01-03</td>\n",
       "      <td>36.302303</td>\n",
       "      <td>19.592527</td>\n",
       "    </tr>\n",
       "    <tr>\n",
       "      <th>1</th>\n",
       "      <td>2012-01-04</td>\n",
       "      <td>36.924629</td>\n",
       "      <td>19.673445</td>\n",
       "    </tr>\n",
       "    <tr>\n",
       "      <th>2</th>\n",
       "      <td>2012-01-05</td>\n",
       "      <td>37.488857</td>\n",
       "      <td>19.843395</td>\n",
       "    </tr>\n",
       "    <tr>\n",
       "      <th>3</th>\n",
       "      <td>2012-01-06</td>\n",
       "      <td>37.472271</td>\n",
       "      <td>19.665356</td>\n",
       "    </tr>\n",
       "    <tr>\n",
       "      <th>4</th>\n",
       "      <td>2012-01-09</td>\n",
       "      <td>38.376720</td>\n",
       "      <td>19.746275</td>\n",
       "    </tr>\n",
       "    <tr>\n",
       "      <th>...</th>\n",
       "      <td>...</td>\n",
       "      <td>...</td>\n",
       "      <td>...</td>\n",
       "    </tr>\n",
       "    <tr>\n",
       "      <th>2797</th>\n",
       "      <td>2023-02-14</td>\n",
       "      <td>115.349998</td>\n",
       "      <td>115.349998</td>\n",
       "    </tr>\n",
       "    <tr>\n",
       "      <th>2798</th>\n",
       "      <td>2023-02-15</td>\n",
       "      <td>114.629997</td>\n",
       "      <td>115.250000</td>\n",
       "    </tr>\n",
       "    <tr>\n",
       "      <th>2799</th>\n",
       "      <td>2023-02-16</td>\n",
       "      <td>111.550003</td>\n",
       "      <td>111.629997</td>\n",
       "    </tr>\n",
       "    <tr>\n",
       "      <th>2800</th>\n",
       "      <td>2023-02-17</td>\n",
       "      <td>111.169998</td>\n",
       "      <td>111.180000</td>\n",
       "    </tr>\n",
       "    <tr>\n",
       "      <th>2801</th>\n",
       "      <td>2023-02-21</td>\n",
       "      <td>108.150002</td>\n",
       "      <td>109.129997</td>\n",
       "    </tr>\n",
       "  </tbody>\n",
       "</table>\n",
       "<p>2802 rows × 3 columns</p>\n",
       "</div>"
      ],
      "text/plain": [
       "ticker      index         COF         DFS\n",
       "0      2012-01-03   36.302303   19.592527\n",
       "1      2012-01-04   36.924629   19.673445\n",
       "2      2012-01-05   37.488857   19.843395\n",
       "3      2012-01-06   37.472271   19.665356\n",
       "4      2012-01-09   38.376720   19.746275\n",
       "...           ...         ...         ...\n",
       "2797   2023-02-14  115.349998  115.349998\n",
       "2798   2023-02-15  114.629997  115.250000\n",
       "2799   2023-02-16  111.550003  111.629997\n",
       "2800   2023-02-17  111.169998  111.180000\n",
       "2801   2023-02-21  108.150002  109.129997\n",
       "\n",
       "[2802 rows x 3 columns]"
      ]
     },
     "execution_count": 7,
     "metadata": {},
     "output_type": "execute_result"
    }
   ],
   "source": [
    "portfolio.df_wide"
   ]
  },
  {
   "cell_type": "code",
   "execution_count": 8,
   "id": "2b8e11bb",
   "metadata": {},
   "outputs": [
    {
     "data": {
      "text/html": [
       "<div>\n",
       "<style scoped>\n",
       "    .dataframe tbody tr th:only-of-type {\n",
       "        vertical-align: middle;\n",
       "    }\n",
       "\n",
       "    .dataframe tbody tr th {\n",
       "        vertical-align: top;\n",
       "    }\n",
       "\n",
       "    .dataframe thead th {\n",
       "        text-align: right;\n",
       "    }\n",
       "</style>\n",
       "<table border=\"1\" class=\"dataframe\">\n",
       "  <thead>\n",
       "    <tr style=\"text-align: right;\">\n",
       "      <th>ticker</th>\n",
       "      <th>SPY</th>\n",
       "      <th>COF</th>\n",
       "      <th>DFS</th>\n",
       "      <th>price_date</th>\n",
       "    </tr>\n",
       "  </thead>\n",
       "  <tbody>\n",
       "    <tr>\n",
       "      <th>0</th>\n",
       "      <td>4.640501</td>\n",
       "      <td>3.591881</td>\n",
       "      <td>2.975148</td>\n",
       "      <td>2012-01-03</td>\n",
       "    </tr>\n",
       "    <tr>\n",
       "      <th>1</th>\n",
       "      <td>4.642068</td>\n",
       "      <td>3.608879</td>\n",
       "      <td>2.979270</td>\n",
       "      <td>2012-01-04</td>\n",
       "    </tr>\n",
       "    <tr>\n",
       "      <th>2</th>\n",
       "      <td>4.644727</td>\n",
       "      <td>3.624044</td>\n",
       "      <td>2.987871</td>\n",
       "      <td>2012-01-05</td>\n",
       "    </tr>\n",
       "    <tr>\n",
       "      <th>3</th>\n",
       "      <td>4.642146</td>\n",
       "      <td>3.623601</td>\n",
       "      <td>2.978858</td>\n",
       "      <td>2012-01-06</td>\n",
       "    </tr>\n",
       "    <tr>\n",
       "      <th>4</th>\n",
       "      <td>4.644570</td>\n",
       "      <td>3.647451</td>\n",
       "      <td>2.982965</td>\n",
       "      <td>2012-01-09</td>\n",
       "    </tr>\n",
       "    <tr>\n",
       "      <th>...</th>\n",
       "      <td>...</td>\n",
       "      <td>...</td>\n",
       "      <td>...</td>\n",
       "      <td>...</td>\n",
       "    </tr>\n",
       "    <tr>\n",
       "      <th>2797</th>\n",
       "      <td>6.022576</td>\n",
       "      <td>4.747971</td>\n",
       "      <td>4.747971</td>\n",
       "      <td>2023-02-14</td>\n",
       "    </tr>\n",
       "    <tr>\n",
       "      <th>2798</th>\n",
       "      <td>6.025818</td>\n",
       "      <td>4.741710</td>\n",
       "      <td>4.747104</td>\n",
       "      <td>2023-02-15</td>\n",
       "    </tr>\n",
       "    <tr>\n",
       "      <th>2799</th>\n",
       "      <td>6.011953</td>\n",
       "      <td>4.714473</td>\n",
       "      <td>4.715190</td>\n",
       "      <td>2023-02-16</td>\n",
       "    </tr>\n",
       "    <tr>\n",
       "      <th>2800</th>\n",
       "      <td>6.009452</td>\n",
       "      <td>4.711061</td>\n",
       "      <td>4.711151</td>\n",
       "      <td>2023-02-17</td>\n",
       "    </tr>\n",
       "    <tr>\n",
       "      <th>2801</th>\n",
       "      <td>5.989187</td>\n",
       "      <td>4.683519</td>\n",
       "      <td>4.692540</td>\n",
       "      <td>2023-02-21</td>\n",
       "    </tr>\n",
       "  </tbody>\n",
       "</table>\n",
       "<p>2802 rows × 4 columns</p>\n",
       "</div>"
      ],
      "text/plain": [
       "ticker       SPY       COF       DFS price_date\n",
       "0       4.640501  3.591881  2.975148 2012-01-03\n",
       "1       4.642068  3.608879  2.979270 2012-01-04\n",
       "2       4.644727  3.624044  2.987871 2012-01-05\n",
       "3       4.642146  3.623601  2.978858 2012-01-06\n",
       "4       4.644570  3.647451  2.982965 2012-01-09\n",
       "...          ...       ...       ...        ...\n",
       "2797    6.022576  4.747971  4.747971 2023-02-14\n",
       "2798    6.025818  4.741710  4.747104 2023-02-15\n",
       "2799    6.011953  4.714473  4.715190 2023-02-16\n",
       "2800    6.009452  4.711061  4.711151 2023-02-17\n",
       "2801    5.989187  4.683519  4.692540 2023-02-21\n",
       "\n",
       "[2802 rows x 4 columns]"
      ]
     },
     "execution_count": 8,
     "metadata": {},
     "output_type": "execute_result"
    }
   ],
   "source": [
    "portfolio.dataset"
   ]
  },
  {
   "cell_type": "code",
   "execution_count": 9,
   "id": "6599f92a",
   "metadata": {},
   "outputs": [],
   "source": [
    "p = portfolio.pairs[0]"
   ]
  },
  {
   "cell_type": "code",
   "execution_count": 10,
   "id": "569ec3ee",
   "metadata": {},
   "outputs": [
    {
     "data": {
      "text/plain": [
       "True"
      ]
     },
     "execution_count": 10,
     "metadata": {},
     "output_type": "execute_result"
    }
   ],
   "source": [
    "p.cointegrates"
   ]
  },
  {
   "cell_type": "code",
   "execution_count": 11,
   "id": "c569d907",
   "metadata": {},
   "outputs": [
    {
     "data": {
      "text/plain": [
       "0       3.591881\n",
       "1       3.608879\n",
       "2       3.624044\n",
       "3       3.623601\n",
       "4       3.647451\n",
       "          ...   \n",
       "2797    4.747971\n",
       "2798    4.741710\n",
       "2799    4.714473\n",
       "2800    4.711061\n",
       "2801    4.683519\n",
       "Name: COF, Length: 2802, dtype: float64"
      ]
     },
     "execution_count": 11,
     "metadata": {},
     "output_type": "execute_result"
    }
   ],
   "source": [
    "p.x"
   ]
  },
  {
   "cell_type": "code",
   "execution_count": 12,
   "id": "ac5bfe48",
   "metadata": {},
   "outputs": [
    {
     "data": {
      "text/plain": [
       "0       2.975148\n",
       "1       2.979270\n",
       "2       2.987871\n",
       "3       2.978858\n",
       "4       2.982965\n",
       "          ...   \n",
       "2797    4.747971\n",
       "2798    4.747104\n",
       "2799    4.715190\n",
       "2800    4.711151\n",
       "2801    4.692540\n",
       "Name: DFS, Length: 2802, dtype: float64"
      ]
     },
     "execution_count": 12,
     "metadata": {},
     "output_type": "execute_result"
    }
   ],
   "source": [
    "p.y"
   ]
  },
  {
   "cell_type": "code",
   "execution_count": 13,
   "id": "3443223c",
   "metadata": {},
   "outputs": [
    {
     "data": {
      "text/plain": [
       "1.0638885370893794"
      ]
     },
     "execution_count": 13,
     "metadata": {},
     "output_type": "execute_result"
    }
   ],
   "source": [
    "p.beta"
   ]
  },
  {
   "cell_type": "code",
   "execution_count": 14,
   "id": "859fb758",
   "metadata": {},
   "outputs": [
    {
     "data": {
      "text/plain": [
       "0.035278281650272456"
      ]
     },
     "execution_count": 14,
     "metadata": {},
     "output_type": "execute_result"
    }
   ],
   "source": [
    "p.pvalue"
   ]
  },
  {
   "cell_type": "code",
   "execution_count": 15,
   "id": "151f94f7",
   "metadata": {},
   "outputs": [
    {
     "data": {
      "image/png": "[encoded data removed]",
      "text/plain": [
       "<Figure size 600x400 with 1 Axes>"
      ]
     },
     "metadata": {
      "needs_background": "light"
     },
     "output_type": "display_data"
    }
   ],
   "source": [
    "p.plot_spread()"
   ]
  }
 ],
 "metadata": {
  "kernelspec": {
   "display_name": "Python 3 (ipykernel)",
   "language": "python",
   "name": "python3"
  },
  "language_info": {
   "codemirror_mode": {
    "name": "ipython",
    "version": 3
   },
   "file_extension": ".py",
   "mimetype": "text/x-python",
   "name": "python",
   "nbconvert_exporter": "python",
   "pygments_lexer": "ipython3",
   "version": "3.10.2"
  }
 },
 "nbformat": 4,
 "nbformat_minor": 5
}
